
import requests
from bs4 import BeautifulSoup
r = requests.get("http://www.nepalstock.com.np/marketdepthofcompany/238")
soup = BeautifulSoup(r.content, "lxml")
value_select = soup.select_one("select.form_control")
for val in value_select.select("option + option"):
  n = val['value']
  print n

import requests
from bs4 import BeautifulSoup

r = requests.get("http://www.nepalstock.com.np/marketdepthofcompany/238")
soup = BeautifulSoup(r.content,"lxml")
value_select = soup.select_one("#StockSymbol_Select2")
for val in value_select.select("option + option"):
    print (val["value"])
