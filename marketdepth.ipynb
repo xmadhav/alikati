import requests
from bs4 import BeautifulSoup
import csv

r = requests.get("http://www.nepalstock.com.np/marketdepthofcompany/136")
soup = BeautifulSoup(r.content,"lxml")
table = soup.select("table.table-striped.table-bordered.orderTable")
B_table = table[0] #B = Buy
S_table = table[1] #S = Sell
T_table = table[2] #T = Total
B_head = B_table.select_one("thead")
S_head = S_table.select_one("thead")
for tr in B_head.find_all('tr'):
    buy_headers = ([th.text.strip() for th in tr.find_all("th")])
print (buy_headers)
buy_data = ([td.text.strip() for td in B_table.find_all("td")])
print (buy_data)
print (buy_data[0])
for tr in S_head.find_all('tr'):
    sell_headers = ([th.text.strip() for th in tr.find_all("th")])
print (sell_headers)
sell_data = ([td.text.strip() for td in S_table.find_all("td")])
print (sell_data)
total_data = ([td.text.strip() for td in T_table.find_all("td")])
print (total_data)

with open("/Users/MAD/Desktop/mdepth.csv", "w") as f:
    wr = csv.writer(f)
    wr.writerow(buy_headers+sell_headers)
    wr.writerows(buy_data+sell_data)
    wr.writerow(total_data)
